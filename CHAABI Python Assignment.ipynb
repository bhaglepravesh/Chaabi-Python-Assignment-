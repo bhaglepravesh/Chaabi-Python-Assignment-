{
 "cells": [
  {
   "cell_type": "markdown",
   "id": "032a9394",
   "metadata": {},
   "source": [
    "#### Question 1"
   ]
  },
  {
   "cell_type": "code",
   "execution_count": 7,
   "id": "3d6ccae6",
   "metadata": {},
   "outputs": [
    {
     "data": {
      "text/plain": [
       "[5, 15, 21, 54, 416, 741, 6135]"
      ]
     },
     "execution_count": 7,
     "metadata": {},
     "output_type": "execute_result"
    }
   ],
   "source": [
    "def f1(list1):\n",
    "    size=len(list1)\n",
    "    for step in range(size):\n",
    "        min_index = step\n",
    "\n",
    "        for i in range(step + 1, size):\n",
    "         \n",
    "            \n",
    "            # select the minimum element in each loop\n",
    "            if list1[i] < list1[min_index]:\n",
    "                min_index = i\n",
    "         \n",
    "        # put min at the correct position\n",
    "        (list1[step], list1[min_index]) = (list1[min_index], list1[step])\n",
    "    return list1\n",
    "\n",
    "list1 = [5,416,54,21,6135,15,741]\n",
    "f1(list1)\n"
   ]
  },
  {
   "cell_type": "markdown",
   "id": "9067c00f",
   "metadata": {},
   "source": [
    "#### Question 2"
   ]
  },
  {
   "cell_type": "markdown",
   "id": "43511797",
   "metadata": {},
   "source": [
    "A dictionary is a collection of key-value pairs. It is also known as an associative array, map, or hash table in other programming languages. Dictionaries are mutable, we can modify them by adding, updating, or removing key-value pairs.\n",
    "\n",
    "- Dictionaries are used to store data values in key:value pairs.\n",
    "- A dictionary is a collection which is ordered*, mutable(changeable) and do not allow duplicates\n",
    "- As of Python version 3.7, dictionaries are ordered. In Python 3.6 and earlier, dictionaries are unordered\n",
    "- Dictionaries are written with curly brackets, and have keys and values"
   ]
  },
  {
   "cell_type": "code",
   "execution_count": 5,
   "id": "0d349e61",
   "metadata": {},
   "outputs": [
    {
     "data": {
      "text/plain": [
       "{'abc.jpg': 'image',\n",
       " 'xyz.xls': 'spreadsheet',\n",
       " 'text.csv': 'unknown',\n",
       " '123': 'unknown'}"
      ]
     },
     "execution_count": 5,
     "metadata": {},
     "output_type": "execute_result"
    }
   ],
   "source": [
    "def get_file_type(extension_type_list, file_list):\n",
    "    # Create a dictionary from the extension_type_list\n",
    "    extensions = {}\n",
    "    for pair in extension_type_list.split(';'):\n",
    "        extension, file_type = pair.split(',')\n",
    "        extensions[extension] = file_type\n",
    "\n",
    "    # Process each file in the file_list\n",
    "    result = {}\n",
    "    for file_name in file_list:\n",
    "        if '.' in file_name:\n",
    "            extension = file_name.split('.')[-1]\n",
    "            if extension in extensions:\n",
    "                result[file_name] = extensions[extension]\n",
    "            else:\n",
    "                result[file_name] = 'unknown'\n",
    "        else:\n",
    "            result[file_name] = 'unknown'\n",
    "    \n",
    "    return result\n",
    "\n",
    "get_file_type(\"xls,spreadsheet;xlsx,spreadsheet;jpg,image\", [\"abc.jpg\",\n",
    "\"xyz.xls\", \"text.csv\", \"123\"])"
   ]
  },
  {
   "cell_type": "markdown",
   "id": "94d126e8",
   "metadata": {},
   "source": [
    "#### Question 3"
   ]
  },
  {
   "cell_type": "code",
   "execution_count": 9,
   "id": "f894bfb3",
   "metadata": {},
   "outputs": [
    {
     "name": "stdout",
     "output_type": "stream",
     "text": [
      "[{'fruit': 'apple', 'color': 'red'}, {'fruit': 'banana', 'color': 'yellow'}, {'fruit': 'blueberry', 'color': 'blue'}, {'fruit': 'orange', 'color': 'orange'}]\n",
      "[{'fruit': 'blueberry', 'color': 'blue'}, {'fruit': 'orange', 'color': 'orange'}, {'fruit': 'apple', 'color': 'red'}, {'fruit': 'banana', 'color': 'yellow'}]\n"
     ]
    }
   ],
   "source": [
    "def sort_list_of_dicts(lst, key):\n",
    "    return sorted(lst, key=lambda x: x[key])\n",
    "\n",
    "fruits = [\n",
    "    {\"fruit\": \"orange\", \"color\": \"orange\"},\n",
    "    {\"fruit\": \"apple\", \"color\": \"red\"},\n",
    "    {\"fruit\": \"banana\", \"color\": \"yellow\"},\n",
    "    {\"fruit\": \"blueberry\", \"color\": \"blue\"}\n",
    "]\n",
    "\n",
    "sorted_fruits_by_fruit = sort_list_of_dicts(fruits, \"fruit\")\n",
    "print(sorted_fruits_by_fruit)\n",
    "\n",
    "sorted_fruits_by_color = sort_list_of_dicts(fruits, \"color\")\n",
    "print(sorted_fruits_by_color)\n"
   ]
  },
  {
   "cell_type": "markdown",
   "id": "283b20a5",
   "metadata": {},
   "source": [
    "#### Question 4"
   ]
  },
  {
   "cell_type": "code",
   "execution_count": 11,
   "id": "d30fa745",
   "metadata": {},
   "outputs": [
    {
     "data": {
      "text/plain": [
       "{'value1': 'key1',\n",
       " 'value2': 'key2',\n",
       " 'value3': 'key3',\n",
       " 'value4': 'key4',\n",
       " 'value5': 'key5'}"
      ]
     },
     "execution_count": 11,
     "metadata": {},
     "output_type": "execute_result"
    }
   ],
   "source": [
    "def switch_dict_keys_values(dictionary):\n",
    "    return {v: k for k, v in dictionary.items()}\n",
    "\n",
    "original_dict = {\n",
    "    \"key1\": \"value1\",\n",
    "    \"key2\": \"value2\",\n",
    "    \"key3\": \"value3\",\n",
    "    \"key4\": \"value4\",\n",
    "    \"key5\": \"value5\"\n",
    "}\n",
    "\n",
    "switched_dict = switch_dict_keys_values(original_dict)\n",
    "switched_dict\n"
   ]
  },
  {
   "cell_type": "markdown",
   "id": "47158fa0",
   "metadata": {},
   "source": [
    "#### Question 5"
   ]
  },
  {
   "cell_type": "code",
   "execution_count": 14,
   "id": "b6b80459",
   "metadata": {},
   "outputs": [
    {
     "name": "stdout",
     "output_type": "stream",
     "text": [
      "['One Piece', 'Attack On Titan']\n",
      "[\"Stein's Gate\", 'Code Geass', 'Death Note', 'Sword Art Online', 'The Devil is a Part Timer!', 'One Punch Man', 'Full Metal Alchemist', 'Bleach', 'Dragon Ball Z']\n"
     ]
    }
   ],
   "source": [
    "def compare_lists(list1, list2):\n",
    "    common_elements = list(set(list1) & set(list2))\n",
    "    non_common_elements = list(set(list1) ^ set(list2))\n",
    "    return common_elements, non_common_elements\n",
    "\n",
    "\n",
    "mainstream = [\"One Punch Man\", \"Attack On Titan\", \"One Piece\", \"Sword Art Online\", \"Bleach\", \"Dragon Ball Z\", \"One Piece\"]\n",
    "must_watch = [\"Full Metal Alchemist\", \"Code Geass\", \"Death Note\", \"Stein's Gate\", \"The Devil is a Part Timer!\", \"One Piece\", \"Attack On Titan\"]\n",
    "\n",
    "common, non_common = compare_lists(mainstream, must_watch)\n",
    "print(common)\n",
    "print(non_common)"
   ]
  },
  {
   "cell_type": "markdown",
   "id": "f8654fd6",
   "metadata": {},
   "source": [
    "#### Question 6"
   ]
  },
  {
   "cell_type": "code",
   "execution_count": 15,
   "id": "4cb706b3",
   "metadata": {},
   "outputs": [
    {
     "name": "stdout",
     "output_type": "stream",
     "text": [
      "[5, 11, 17, 23]\n"
     ]
    }
   ],
   "source": [
    "def extract_sublist(lst, start_index, end_index):\n",
    "    sub_list = lst[start_index:end_index+1:2]\n",
    "    return sub_list\n",
    "\n",
    "input_list = [2, 3, 5, 7, 11, 13, 17, 19, 23, 29, 31, 37, 41]\n",
    "start_index = 2\n",
    "end_index = 9\n",
    "\n",
    "result = extract_sublist(input_list, start_index, end_index)\n",
    "print(result)"
   ]
  },
  {
   "cell_type": "markdown",
   "id": "050a1325",
   "metadata": {},
   "source": [
    "#### Question 7"
   ]
  },
  {
   "cell_type": "code",
   "execution_count": 17,
   "id": "bc2b32ca",
   "metadata": {},
   "outputs": [
    {
     "name": "stdout",
     "output_type": "stream",
     "text": [
      "120\n"
     ]
    }
   ],
   "source": [
    "factorial = lambda n: 1 if n == 0 else n * factorial(n - 1)\n",
    "\n",
    "number = 5\n",
    "result = factorial(number)\n",
    "print(result)"
   ]
  },
  {
   "cell_type": "markdown",
   "id": "2c7b90ed",
   "metadata": {},
   "source": [
    "#### Question 8"
   ]
  },
  {
   "cell_type": "markdown",
   "id": "31123641",
   "metadata": {},
   "source": [
    "- 0 <br>\n",
    "The initial dictionary A0 is created using the zip() function and the dict() constructor. The keys are the strings 'a', 'b', 'c', 'd', 'e', and the values are the integers 1, 2, 3, 4, 5. The final value of A0 is {'a': 1, 'b': 2, 'c': 3, 'd': 4, 'e': 5}.\n",
    "The final value of A0 is the dictionary itself.\n",
    "\n",
    "- 1 <br>\n",
    "The variable A1 is assigned a range object representing the numbers from 0 to 9. The final value of A1 is range(0, 10).\n",
    "\n",
    "- 2 <br>\n",
    "The list comprehension [i for i in A1 if i in A0] creates a list of elements from A1 that are also keys in A0. The sorted() function then sorts this list. Since none of the elements in A1 are keys in A0, the final value of A2 is an empty list [].\n",
    "\n",
    "- 3 <br>\n",
    "The list comprehension [A0[s] for s in A0] creates a list of values from A0 by iterating over its keys. The sorted() function sorts this list. \n",
    "The final value of A3 is the list [1, 2, 3, 4, 5].\n",
    "\n",
    "- 4 <br>\n",
    "The list comprehension [i for i in A1 if i in A3] creates a list of elements from A1 that are also present in A3. Since all elements in A1 are present in A3. \n",
    "The final value of A4 is : [0, 1, 2, 3, 4, 5,].\n",
    "\n",
    "- 5 <br>\n",
    "The dictionary comprehension {i: i*i for i in A1} creates a dictionary where the keys are the elements from A1 and the values are the square of each element. \n",
    "The final value of A5 is {0: 0, 1: 1, 2: 4, 3: 9, 4: 16, 5: 25, 6: 36, 7: 49, 8: 64, 9: 81}.\n",
    "\n",
    "- 6 <br>\n",
    "This is a list of lists, where each inner list contains a number from A1 and its square\n",
    "The final value of A6 is :\n",
    "[[0, 0], [1, 1], [2, 4], [3, 9], [4, 16], [5, 25], [6, 36], [7, 49], [8, 64], [9, 81]]\n",
    "\n",
    "- 7 <br>\n",
    "The reduce() function in Python is a part of the functools module. It is used to apply a function to an iterable and reduce it to a single cumulative value.<br>\n",
    "from functools import reduce<br>\n",
    "reduce(function, iterable, initializer)\n",
    "The final value of A7 is :21\n",
    "\n",
    "- 8 <br>\n",
    "\n",
    "The map() function in Python is a built-in function used to apply a given function to each item of an iterable (e.g., a list, tuple, or string) and return an iterator that contains the results. if list or tuple is used then the output will be show.\n",
    "The final value of A8  is an Object :<map at 0x2527b032850>\n",
    " \n",
    "- 9 <br>\n",
    "The filter() function in Python is a built-in function used to filter elements from an iterable (e.g., a list, tuple, or string) based on a given condition. It returns an iterator that contains the elements for which the condition is true.if list or tuple is used then the output will be show\n",
    "The final value of A9  is an Object :<filter at 0x2527b032730>\n"
   ]
  },
  {
   "cell_type": "markdown",
   "id": "3d18820e",
   "metadata": {},
   "source": [
    "#### Question 9"
   ]
  },
  {
   "cell_type": "code",
   "execution_count": 73,
   "id": "9a0944d6",
   "metadata": {},
   "outputs": [
    {
     "name": "stdout",
     "output_type": "stream",
     "text": [
      "True\n"
     ]
    }
   ],
   "source": [
    "from datetime import datetime, timedelta\n",
    "\n",
    "def check_date_difference(from_date, to_date, difference):\n",
    "    # Convert string dates to datetime objects\n",
    "    from_date = datetime.strptime(from_date, '%y-%m-%d').date()\n",
    "    to_date = datetime.strptime(to_date, '%y-%m-%d').date()\n",
    "    \n",
    "    difference_in_days = (to_date - from_date).days\n",
    "    \n",
    "   #       True if from_date and to_date are less than difference days away from each other, else False. \n",
    "    return difference_in_days < difference\n",
    "\n",
    "    \n",
    "from_date = '21-01-01'\n",
    "to_date = '21-01-05'\n",
    "difference = 10\n",
    "\n",
    "result = check_date_difference(from_date, to_date, difference)\n",
    "print(result) "
   ]
  },
  {
   "cell_type": "markdown",
   "id": "1370fda1",
   "metadata": {},
   "source": [
    "#### Question 10"
   ]
  },
  {
   "cell_type": "code",
   "execution_count": 77,
   "id": "1703ef1f",
   "metadata": {},
   "outputs": [
    {
     "name": "stdout",
     "output_type": "stream",
     "text": [
      "16-11-29\n"
     ]
    }
   ],
   "source": [
    "from datetime import datetime, timedelta\n",
    "\n",
    "def get_date_before(date, n):\n",
    "    # Convert date string to datetime object\n",
    "    date_obj = datetime.strptime(date, '%y-%m-%d')\n",
    "\n",
    "    # Calculate the date n days before\n",
    "    date_before = date_obj - timedelta(days=n)\n",
    "\n",
    "    # Convert the date to string format\n",
    "    date_before_str = date_before.strftime('%y-%m-%d')\n",
    "\n",
    "    return date_before_str\n",
    "\n",
    "date = '16-12-10'\n",
    "n = 11\n",
    "\n",
    "result = get_date_before(date, n)\n",
    "print(result) "
   ]
  },
  {
   "cell_type": "markdown",
   "id": "356bb1dd",
   "metadata": {},
   "source": [
    "#### Question 11"
   ]
  },
  {
   "cell_type": "markdown",
   "id": "87d88f7c",
   "metadata": {},
   "source": [
    "Find output of following:\n",
    "\n",
    "def f(x,l=[]):\n",
    "    for i in range(x):\n",
    "        l.append(i*i)\n",
    "    print(l)\n",
    "\n",
    "f(2)\n",
    "Output will be [0, 1]\n",
    "\n",
    "\n",
    "f(3,[3,2,1])\n",
    "out put will be [3, 2, 1, 0, 1, 4]\n",
    "\n",
    "\n",
    "f(3)\n",
    "output will be [0, 1, 4]"
   ]
  }
 ],
 "metadata": {
  "kernelspec": {
   "display_name": "Python 3 (ipykernel)",
   "language": "python",
   "name": "python3"
  },
  "language_info": {
   "codemirror_mode": {
    "name": "ipython",
    "version": 3
   },
   "file_extension": ".py",
   "mimetype": "text/x-python",
   "name": "python",
   "nbconvert_exporter": "python",
   "pygments_lexer": "ipython3",
   "version": "3.9.12"
  }
 },
 "nbformat": 4,
 "nbformat_minor": 5
}
